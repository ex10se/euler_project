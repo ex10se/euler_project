{
 "cells": [
  {
   "cell_type": "code",
   "execution_count": 69,
   "outputs": [],
   "source": [
    "from datetime import datetime\n",
    "from typing import Any"
   ],
   "metadata": {
    "collapsed": false,
    "pycharm": {
     "name": "#%%\n"
    }
   }
  },
  {
   "cell_type": "code",
   "execution_count": 71,
   "outputs": [],
   "source": [
    "def my_timeit(func, *args, **kwargs) -> tuple[float, Any]:\n",
    "    start = datetime.now()\n",
    "    result = func(*args, **kwargs)\n",
    "    return (datetime.now() - start).total_seconds(), result\n"
   ],
   "metadata": {
    "collapsed": false,
    "pycharm": {
     "name": "#%%\n"
    }
   }
  },
  {
   "cell_type": "code",
   "execution_count": 72,
   "outputs": [
    {
     "name": "stdout",
     "output_type": "stream",
     "text": [
      "(0.0, 233168)\n"
     ]
    }
   ],
   "source": [
    "def euler_1(n):\n",
    "    result = 0\n",
    "    for i in range(1, n):\n",
    "        if not i % 3 or not i % 5:\n",
    "            result += i\n",
    "    return result  # n=1000, result=233168, time=0\n",
    "\n",
    "print(my_timeit(euler_1, 1000))"
   ],
   "metadata": {
    "collapsed": false,
    "pycharm": {
     "name": "#%%\n"
    }
   }
  },
  {
   "cell_type": "code",
   "execution_count": 73,
   "outputs": [],
   "source": [
    "from functools import lru_cache"
   ],
   "metadata": {
    "collapsed": false,
    "pycharm": {
     "name": "#%%\n"
    }
   }
  },
  {
   "cell_type": "code",
   "execution_count": 74,
   "outputs": [
    {
     "name": "stdout",
     "output_type": "stream",
     "text": [
      "(0.0, 4613732)\n"
     ]
    }
   ],
   "source": [
    "def euler_2(n):\n",
    "    @lru_cache(maxsize=None)\n",
    "    def fib(i):\n",
    "        return i if i in [1, 2] else fib(i - 2) + fib(i - 1)\n",
    "\n",
    "    result = 0\n",
    "    x = 1\n",
    "    while True:\n",
    "        f = fib(x)\n",
    "        if f > n:\n",
    "            break\n",
    "        if not f % 2:\n",
    "            result += fib(x)\n",
    "        x += 1\n",
    "    return result  # n=4_000_000, result=4613732, time=0\n",
    "\n",
    "print(my_timeit(euler_2, 4_000_000))"
   ],
   "metadata": {
    "collapsed": false,
    "pycharm": {
     "name": "#%%\n"
    }
   }
  },
  {
   "cell_type": "code",
   "execution_count": 78,
   "outputs": [],
   "source": [
    "from sympy import divisors, isprime"
   ],
   "metadata": {
    "collapsed": false,
    "pycharm": {
     "name": "#%%\n"
    }
   }
  },
  {
   "cell_type": "code",
   "execution_count": 79,
   "outputs": [
    {
     "name": "stdout",
     "output_type": "stream",
     "text": [
      "(0.000997, 6857)\n"
     ]
    }
   ],
   "source": [
    "@lru_cache(maxsize=None)\n",
    "def euler_3(n):\n",
    "    for i in divisors(n, proper=True)[:0:-1]:\n",
    "        if isprime(i):\n",
    "            return i\n",
    "\n",
    "print(my_timeit(euler_3, 600851475143))  # n=600851475143, i=6857, time=0.000997"
   ],
   "metadata": {
    "collapsed": false,
    "pycharm": {
     "name": "#%%\n"
    }
   }
  },
  {
   "cell_type": "code",
   "execution_count": null,
   "outputs": [],
   "source": [],
   "metadata": {
    "collapsed": false,
    "pycharm": {
     "name": "#%%\n"
    }
   }
  }
 ],
 "metadata": {
  "kernelspec": {
   "display_name": "Python 3",
   "language": "python",
   "name": "python3"
  },
  "language_info": {
   "codemirror_mode": {
    "name": "ipython",
    "version": 2
   },
   "file_extension": ".py",
   "mimetype": "text/x-python",
   "name": "python",
   "nbconvert_exporter": "python",
   "pygments_lexer": "ipython2",
   "version": "2.7.6"
  }
 },
 "nbformat": 4,
 "nbformat_minor": 0
}
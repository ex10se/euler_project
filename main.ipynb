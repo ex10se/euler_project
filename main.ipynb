{
 "cells": [
  {
   "cell_type": "code",
   "execution_count": 69,
   "outputs": [],
   "source": [
    "from datetime import datetime\n",
    "from typing import Any"
   ],
   "metadata": {
    "collapsed": false,
    "pycharm": {
     "name": "#%%\n"
    }
   }
  },
  {
   "cell_type": "code",
   "execution_count": 71,
   "outputs": [],
   "source": [
    "def my_timeit(func, *args, **kwargs) -> tuple[float, Any]:\n",
    "    start = datetime.now()\n",
    "    result = func(*args, **kwargs)\n",
    "    return (datetime.now() - start).total_seconds(), result"
   ],
   "metadata": {
    "collapsed": false,
    "pycharm": {
     "name": "#%%\n"
    }
   }
  },
  {
   "cell_type": "code",
   "execution_count": 72,
   "outputs": [
    {
     "name": "stdout",
     "output_type": "stream",
     "text": [
      "(0.0, 233168)\n"
     ]
    }
   ],
   "source": [
    "def euler_1(n: int):\n",
    "    result = 0\n",
    "    for i in range(1, n):\n",
    "        if not i % 3 or not i % 5:\n",
    "            result += i\n",
    "    return result  # n=1000, result=233168, time=0\n",
    "\n",
    "print(my_timeit(euler_1, 1000))"
   ],
   "metadata": {
    "collapsed": false,
    "pycharm": {
     "name": "#%%\n"
    }
   }
  },
  {
   "cell_type": "code",
   "execution_count": 73,
   "outputs": [],
   "source": [
    "from functools import lru_cache"
   ],
   "metadata": {
    "collapsed": false,
    "pycharm": {
     "name": "#%%\n"
    }
   }
  },
  {
   "cell_type": "code",
   "execution_count": 74,
   "outputs": [
    {
     "name": "stdout",
     "output_type": "stream",
     "text": [
      "(0.0, 4613732)\n"
     ]
    }
   ],
   "source": [
    "def euler_2(n: int):\n",
    "    @lru_cache(maxsize=None)\n",
    "    def fib(i):\n",
    "        return i if i in [1, 2] else fib(i - 2) + fib(i - 1)\n",
    "\n",
    "    result = 0\n",
    "    x = 1\n",
    "    while True:\n",
    "        f = fib(x)\n",
    "        if f > n:\n",
    "            break\n",
    "        if not f % 2:\n",
    "            result += fib(x)\n",
    "        x += 1\n",
    "    return result  # n=4_000_000, result=4613732, time=0\n",
    "\n",
    "print(my_timeit(euler_2, 4_000_000))"
   ],
   "metadata": {
    "collapsed": false,
    "pycharm": {
     "name": "#%%\n"
    }
   }
  },
  {
   "cell_type": "code",
   "execution_count": 78,
   "outputs": [],
   "source": [
    "from sympy import divisors, isprime"
   ],
   "metadata": {
    "collapsed": false,
    "pycharm": {
     "name": "#%%\n"
    }
   }
  },
  {
   "cell_type": "code",
   "execution_count": 89,
   "outputs": [
    {
     "name": "stdout",
     "output_type": "stream",
     "text": [
      "(0.000998, 6857)\n"
     ]
    }
   ],
   "source": [
    "def euler_3(n: int):\n",
    "    for i in divisors(n, proper=True)[:0:-1]:\n",
    "        if isprime(i):\n",
    "            return i\n",
    "\n",
    "print(my_timeit(euler_3, 600851475143))  # n=600851475143, i=6857, time=0.000998"
   ],
   "metadata": {
    "collapsed": false,
    "pycharm": {
     "name": "#%%\n"
    }
   }
  },
  {
   "cell_type": "code",
   "execution_count": 154,
   "outputs": [
    {
     "name": "stdout",
     "output_type": "stream",
     "text": [
      "995 * 583\n",
      "(0.002997, 580085)\n"
     ]
    }
   ],
   "source": [
    "def euler_4(n: int):\n",
    "    max_val = 10 ** n - 1\n",
    "    for x in range(max_val, 1, -1):\n",
    "        for y in range(max_val, 1, -1):\n",
    "            if x == y:\n",
    "                continue\n",
    "            prod = str(x * y)\n",
    "            left_part = prod[:len(prod) // 2]\n",
    "            right_part = prod[:len(prod) // 2 - 1:-1]\n",
    "            if left_part == right_part:\n",
    "                print(f'{x} * {y}')\n",
    "                return int(prod)\n",
    "\n",
    "print(my_timeit(euler_4, 3))  # n=3, i=580085, time=0.002997"
   ],
   "metadata": {
    "collapsed": false,
    "pycharm": {
     "name": "#%%\n"
    }
   }
  },
  {
   "cell_type": "code",
   "execution_count": 90,
   "outputs": [],
   "source": [],
   "metadata": {
    "collapsed": false,
    "pycharm": {
     "name": "#%%\n"
    }
   }
  }
 ],
 "metadata": {
  "kernelspec": {
   "display_name": "Python 3",
   "language": "python",
   "name": "python3"
  },
  "language_info": {
   "codemirror_mode": {
    "name": "ipython",
    "version": 2
   },
   "file_extension": ".py",
   "mimetype": "text/x-python",
   "name": "python",
   "nbconvert_exporter": "python",
   "pygments_lexer": "ipython2",
   "version": "2.7.6"
  }
 },
 "nbformat": 4,
 "nbformat_minor": 0
}